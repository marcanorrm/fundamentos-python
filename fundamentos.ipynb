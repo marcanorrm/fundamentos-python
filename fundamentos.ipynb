{
 "cells": [
  {
   "cell_type": "markdown",
   "id": "6428d0bf",
   "metadata": {},
   "source": [
    "# Fundamentos de python\n",
    "- Variables\n",
    "- Operadores matemáticos\n",
    "- Operadores lógicos\n",
    "- Operadores de comparación\n",
    "- Condicionales\n",
    "    - Simples\n",
    "    - Compuestos\n",
    "    - Anidados\n",
    "    - Encadenados\n",
    "- Ciclos\n",
    "    - Finitos (for)\n",
    "    - Infinitos (while)\n",
    "    - Funciones\n",
    "- Estructuras de datos\n",
    "    - Caracteres\n",
    "    - Enteros\n",
    "    - Flotantes\n",
    "    - Listas\n",
    "    - Diccionarios\n",
    "    - Tuplas\n"
   ]
  },
  {
   "cell_type": "code",
   "execution_count": 1,
   "id": "9ea674ac",
   "metadata": {},
   "outputs": [
    {
     "name": "stdout",
     "output_type": "stream",
     "text": [
      "hello\n"
     ]
    }
   ],
   "source": [
    "print(\"hello\")\n",
    "\n"
   ]
  },
  {
   "cell_type": "code",
   "execution_count": 2,
   "id": "f07260f0",
   "metadata": {},
   "outputs": [],
   "source": [
    "# variables\n",
    "name = \"John\"\n"
   ]
  },
  {
   "cell_type": "code",
   "execution_count": 3,
   "id": "cd941b8e",
   "metadata": {},
   "outputs": [
    {
     "data": {
      "text/plain": [
       "'John'"
      ]
     },
     "execution_count": 3,
     "metadata": {},
     "output_type": "execute_result"
    }
   ],
   "source": [
    "name\n"
   ]
  },
  {
   "cell_type": "code",
   "execution_count": 4,
   "id": "629bda33",
   "metadata": {},
   "outputs": [],
   "source": [
    "last_name = \"Doe\""
   ]
  },
  {
   "cell_type": "code",
   "execution_count": 5,
   "id": "1c509236",
   "metadata": {},
   "outputs": [
    {
     "data": {
      "text/plain": [
       "'Doe'"
      ]
     },
     "execution_count": 5,
     "metadata": {},
     "output_type": "execute_result"
    }
   ],
   "source": [
    "last_name"
   ]
  },
  {
   "cell_type": "code",
   "execution_count": null,
   "id": "21693a42",
   "metadata": {},
   "outputs": [],
   "source": [
    "# operadores matemáticos\n",
    "suma = 1 + 2\n",
    "resta = 3 - 1\n",
    "multiplicacion = 2 * 3\n",
    "division = 6 / 2\n",
    "algebra = 2 * (3 + 4) - 5 / 2"
   ]
  },
  {
   "cell_type": "code",
   "execution_count": 30,
   "id": "c2291775",
   "metadata": {},
   "outputs": [],
   "source": [
    "number1 = 4\n",
    "number2 = 3\n",
    "number3 = 3"
   ]
  },
  {
   "cell_type": "code",
   "execution_count": 15,
   "id": "767c92e9",
   "metadata": {},
   "outputs": [],
   "source": [
    "suma = number1 + number2 + number3 \n",
    "resta = number1 - number2 - number3\n",
    "multiplicacion = number1 * number2 * number3\n",
    "division = number1 / number2 / number3\n",
    "algebra = number1 * (number2 + number3) - number1 / number2\n",
    "\n"
   ]
  },
  {
   "cell_type": "code",
   "execution_count": 20,
   "id": "9c97e9c8",
   "metadata": {},
   "outputs": [
    {
     "name": "stdout",
     "output_type": "stream",
     "text": [
      "6\n",
      "-4\n",
      "6\n",
      "0.16666666666666666\n",
      "4.5\n"
     ]
    }
   ],
   "source": [
    "print(suma)\n",
    "print(resta)\n",
    "print(multiplicacion)\n",
    "print(division)\n",
    "print(algebra)\n"
   ]
  },
  {
   "cell_type": "code",
   "execution_count": 21,
   "id": "60feab7f",
   "metadata": {},
   "outputs": [
    {
     "name": "stdout",
     "output_type": "stream",
     "text": [
      "El resultado de la suma es: 6\n",
      "El resultado de la resta es: -4\n",
      "El resultado de la multiplicación es: 6\n",
      "El resultado de la división es: 0.16666666666666666\n",
      "El resultado del álgebra es: 4.5\n"
     ]
    }
   ],
   "source": [
    "print(f\"El resultado de la suma es: {suma}\")\n",
    "print(f\"El resultado de la resta es: {resta}\")\n",
    "print(f\"El resultado de la multiplicación es: {multiplicacion}\")\n",
    "print(f\"El resultado de la división es: {division}\")\n",
    "print(f\"El resultado del álgebra es: {algebra}\")"
   ]
  },
  {
   "cell_type": "code",
   "execution_count": null,
   "id": "0f9c881b",
   "metadata": {},
   "outputs": [],
   "source": [
    "# operadores de comparación\n",
    "mayor = 5 > 3\n",
    "menor = 2 < 4\n",
    "igual = 3 == 3\n",
    "diferente = 3 != 4\n",
    "mayor_igual = 5 >= 5\n",
    "menor_igual = 2 <= 3"
   ]
  },
  {
   "cell_type": "code",
   "execution_count": 22,
   "id": "26171a06",
   "metadata": {},
   "outputs": [
    {
     "data": {
      "text/plain": [
       "False"
      ]
     },
     "execution_count": 22,
     "metadata": {},
     "output_type": "execute_result"
    }
   ],
   "source": [
    "3 > 4"
   ]
  },
  {
   "cell_type": "code",
   "execution_count": 23,
   "id": "fc46bd58",
   "metadata": {},
   "outputs": [
    {
     "data": {
      "text/plain": [
       "True"
      ]
     },
     "execution_count": 23,
     "metadata": {},
     "output_type": "execute_result"
    }
   ],
   "source": [
    "number1 < number2"
   ]
  },
  {
   "cell_type": "code",
   "execution_count": 25,
   "id": "29bfd255",
   "metadata": {},
   "outputs": [
    {
     "name": "stdout",
     "output_type": "stream",
     "text": [
      "1\n",
      "2\n",
      "number1 es mayor que number2\n"
     ]
    }
   ],
   "source": [
    "# condicionales\n",
    "print(number1)\n",
    "print(number2)\n",
    "\n",
    "if number1 < number2:\n",
    "    print(\"number1 es mayor que number2\")"
   ]
  },
  {
   "cell_type": "code",
   "execution_count": null,
   "id": "590679f1",
   "metadata": {},
   "outputs": [
    {
     "name": "stdout",
     "output_type": "stream",
     "text": [
      "1\n",
      "2\n",
      "number2 no es mayor que number1\n"
     ]
    }
   ],
   "source": [
    "# condicionales\n",
    "number1 = 1\n",
    "number2 = 2\n",
    "\n",
    "if number1 > number2:\n",
    "    print(\"number1 es mayor que number2\")\n",
    "elif number2 > number1:\n",
    "    print(\"number2 no es mayor que number1\")\n",
    "else:\n",
    "    print(\"number2 es igual que number1\")\n"
   ]
  },
  {
   "cell_type": "code",
   "execution_count": 31,
   "id": "849a3ea4",
   "metadata": {},
   "outputs": [
    {
     "name": "stdout",
     "output_type": "stream",
     "text": [
      "number1 es mayor que number2)\n",
      "number1 es mayor que 5\n"
     ]
    }
   ],
   "source": [
    "number1 = 31\n",
    "number2 = 2\n",
    "\n",
    "if number1 > number2:\n",
    "    if number1 > 5:\n",
    "        print(\"number1 es mayor que number2)\")\n",
    "        print(\"number1 es mayor que 5\")\n"
   ]
  },
  {
   "cell_type": "code",
   "execution_count": 39,
   "id": "7fe5d87e",
   "metadata": {},
   "outputs": [
    {
     "name": "stdout",
     "output_type": "stream",
     "text": [
      "number1 es mayor que number2)\n"
     ]
    }
   ],
   "source": [
    "number1 = 31\n",
    "number2 = 2.1\n",
    "if number1 > number2:\n",
    "    if number1 > 5:\n",
    "        print(\"number1 es mayor que number2)\")\n",
    "    else:\n",
    "        print(\"number1 no es mayor que number2)\")\n",
    "else:\n",
    "    print(\"number1 no es mayor que number2)\")\n"
   ]
  },
  {
   "cell_type": "code",
   "execution_count": 33,
   "id": "e967c0ff",
   "metadata": {},
   "outputs": [],
   "source": [
    "# Estructuras de datos\n",
    "# strings\n",
    "name = \"Jonas\""
   ]
  },
  {
   "cell_type": "code",
   "execution_count": 34,
   "id": "3b876cfd",
   "metadata": {},
   "outputs": [
    {
     "data": {
      "text/plain": [
       "str"
      ]
     },
     "execution_count": 34,
     "metadata": {},
     "output_type": "execute_result"
    }
   ],
   "source": [
    "type(name)"
   ]
  },
  {
   "cell_type": "code",
   "execution_count": 36,
   "id": "cfe0cc5a",
   "metadata": {},
   "outputs": [
    {
     "data": {
      "text/plain": [
       "'Jonas'"
      ]
     },
     "execution_count": 36,
     "metadata": {},
     "output_type": "execute_result"
    }
   ],
   "source": [
    "name.capitalize()"
   ]
  },
  {
   "cell_type": "code",
   "execution_count": 37,
   "id": "c2aef053",
   "metadata": {},
   "outputs": [
    {
     "data": {
      "text/plain": [
       "int"
      ]
     },
     "execution_count": 37,
     "metadata": {},
     "output_type": "execute_result"
    }
   ],
   "source": [
    "type(number1)"
   ]
  },
  {
   "cell_type": "code",
   "execution_count": 40,
   "id": "b3edbc3a",
   "metadata": {},
   "outputs": [
    {
     "data": {
      "text/plain": [
       "float"
      ]
     },
     "execution_count": 40,
     "metadata": {},
     "output_type": "execute_result"
    }
   ],
   "source": [
    "type(number2)"
   ]
  },
  {
   "cell_type": "code",
   "execution_count": 42,
   "id": "f4eb60ae",
   "metadata": {},
   "outputs": [],
   "source": [
    "# Listas\n",
    "name_list = [\"Jonas\", \"Doe\", \"Smith\"]"
   ]
  },
  {
   "cell_type": "code",
   "execution_count": 44,
   "id": "ac199bd5",
   "metadata": {},
   "outputs": [],
   "source": [
    "age_list = [25, 30, 35]"
   ]
  },
  {
   "cell_type": "markdown",
   "id": "b7cf0c72",
   "metadata": {},
   "source": []
  },
  {
   "cell_type": "code",
   "execution_count": 45,
   "id": "7029459c",
   "metadata": {},
   "outputs": [],
   "source": [
    "name_list.append(\"John\")"
   ]
  },
  {
   "cell_type": "code",
   "execution_count": 46,
   "id": "13da6925",
   "metadata": {},
   "outputs": [
    {
     "data": {
      "text/plain": [
       "['Jonas', 'Doe', 'Smith', 'John']"
      ]
     },
     "execution_count": 46,
     "metadata": {},
     "output_type": "execute_result"
    }
   ],
   "source": [
    "name_list"
   ]
  },
  {
   "cell_type": "code",
   "execution_count": 47,
   "id": "10dbcf07",
   "metadata": {},
   "outputs": [],
   "source": [
    "age_list2 = [\n",
    "    45,\n",
    "    65,\n",
    "    78,\n",
    "    84\n",
    "]"
   ]
  },
  {
   "cell_type": "code",
   "execution_count": 48,
   "id": "f6715513",
   "metadata": {},
   "outputs": [
    {
     "data": {
      "text/plain": [
       "['Jonas', 'Doe', 'Smith', 'John']"
      ]
     },
     "execution_count": 48,
     "metadata": {},
     "output_type": "execute_result"
    }
   ],
   "source": [
    "name_list"
   ]
  },
  {
   "cell_type": "code",
   "execution_count": 49,
   "id": "bd3b64fc",
   "metadata": {},
   "outputs": [
    {
     "data": {
      "text/plain": [
       "'John'"
      ]
     },
     "execution_count": 49,
     "metadata": {},
     "output_type": "execute_result"
    }
   ],
   "source": [
    "name_list[3]"
   ]
  },
  {
   "cell_type": "code",
   "execution_count": 50,
   "id": "d5c95d24",
   "metadata": {},
   "outputs": [
    {
     "data": {
      "text/plain": [
       "'John'"
      ]
     },
     "execution_count": 50,
     "metadata": {},
     "output_type": "execute_result"
    }
   ],
   "source": [
    "name_list[-1]\n",
    "\n"
   ]
  },
  {
   "cell_type": "code",
   "execution_count": 51,
   "id": "d1c4a74a",
   "metadata": {},
   "outputs": [
    {
     "data": {
      "text/plain": [
       "['Jonas', 'Doe']"
      ]
     },
     "execution_count": 51,
     "metadata": {},
     "output_type": "execute_result"
    }
   ],
   "source": [
    "# Slice de una lista\n",
    "name_list[0:2]  # [0, 1]"
   ]
  },
  {
   "cell_type": "code",
   "execution_count": 52,
   "id": "b4f72c65",
   "metadata": {},
   "outputs": [
    {
     "data": {
      "text/plain": [
       "['Jonas', 'Doe', 'Smith', 'John']"
      ]
     },
     "execution_count": 52,
     "metadata": {},
     "output_type": "execute_result"
    }
   ],
   "source": [
    "name_list"
   ]
  },
  {
   "cell_type": "code",
   "execution_count": 53,
   "id": "646086ad",
   "metadata": {},
   "outputs": [
    {
     "data": {
      "text/plain": [
       "['Doe', 'Smith']"
      ]
     },
     "execution_count": 53,
     "metadata": {},
     "output_type": "execute_result"
    }
   ],
   "source": [
    "name_list[1:3]\n"
   ]
  },
  {
   "cell_type": "code",
   "execution_count": 54,
   "id": "7c5b0527",
   "metadata": {},
   "outputs": [
    {
     "data": {
      "text/plain": [
       "4"
      ]
     },
     "execution_count": 54,
     "metadata": {},
     "output_type": "execute_result"
    }
   ],
   "source": [
    "len(name_list)"
   ]
  },
  {
   "cell_type": "code",
   "execution_count": 55,
   "id": "2e3ebf5a",
   "metadata": {},
   "outputs": [
    {
     "name": "stdout",
     "output_type": "stream",
     "text": [
      "Jonas\n",
      "Doe\n",
      "Smith\n",
      "John\n"
     ]
    }
   ],
   "source": [
    "# Ciclos finitos\n",
    "for var in name_list:\n",
    "    print(var)"
   ]
  },
  {
   "cell_type": "code",
   "execution_count": 56,
   "id": "93cf0ee0",
   "metadata": {},
   "outputs": [
    {
     "name": "stdout",
     "output_type": "stream",
     "text": [
      "Jonas\n",
      "Doe\n",
      "Smith\n",
      "John\n"
     ]
    }
   ],
   "source": [
    "for name in name_list:\n",
    "    print(name)  # imprime cada elemento de la lista\n"
   ]
  },
  {
   "cell_type": "code",
   "execution_count": 63,
   "id": "acf52816",
   "metadata": {},
   "outputs": [
    {
     "name": "stdout",
     "output_type": "stream",
     "text": [
      "its Doe\n"
     ]
    }
   ],
   "source": [
    "for name in name_list:\n",
    "    if name == \"Doe\":\n",
    "        print(\"its Doe\")"
   ]
  },
  {
   "cell_type": "code",
   "execution_count": 64,
   "id": "e4a5032c",
   "metadata": {},
   "outputs": [
    {
     "name": "stdout",
     "output_type": "stream",
     "text": [
      "1\n"
     ]
    }
   ],
   "source": [
    "for name in name_list:\n",
    "    if name == \"Doe\":\n",
    "        # imprime la posición de la lista\n",
    "        print(name_list.index(name))\n"
   ]
  },
  {
   "cell_type": "code",
   "execution_count": 67,
   "id": "b0ac530d",
   "metadata": {},
   "outputs": [
    {
     "name": "stdout",
     "output_type": "stream",
     "text": [
      "Jonas\n",
      "Doe\n",
      "Smith\n",
      "John\n"
     ]
    }
   ],
   "source": [
    "# recorrido de una lista por indices\n",
    "for item in range(len(name_list)):\n",
    "    print(name_list[item])  # imprime cada elemento de la lista por su índice"
   ]
  },
  {
   "cell_type": "code",
   "execution_count": 70,
   "id": "3c877dbb",
   "metadata": {},
   "outputs": [
    {
     "name": "stdout",
     "output_type": "stream",
     "text": [
      "5\n",
      "6\n",
      "7\n",
      "8\n",
      "9\n"
     ]
    }
   ],
   "source": [
    "# rango de valores con range\n",
    "for i in range(5,10):\n",
    "    print(i)  # imprime los números del 5 al 9"
   ]
  },
  {
   "cell_type": "code",
   "execution_count": null,
   "id": "0193806b",
   "metadata": {},
   "outputs": [],
   "source": []
  }
 ],
 "metadata": {
  "kernelspec": {
   "display_name": ".venv",
   "language": "python",
   "name": "python3"
  },
  "language_info": {
   "codemirror_mode": {
    "name": "ipython",
    "version": 3
   },
   "file_extension": ".py",
   "mimetype": "text/x-python",
   "name": "python",
   "nbconvert_exporter": "python",
   "pygments_lexer": "ipython3",
   "version": "3.13.3"
  }
 },
 "nbformat": 4,
 "nbformat_minor": 5
}
